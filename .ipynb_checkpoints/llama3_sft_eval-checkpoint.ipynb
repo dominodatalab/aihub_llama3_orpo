{
 "cells": [
  {
   "cell_type": "code",
   "execution_count": 12,
   "id": "ce7c9763-7157-45cb-bce0-b200637e6365",
   "metadata": {
    "tags": []
   },
   "outputs": [],
   "source": [
    "MODEL_ID = '/mnt/artifacts/llama3_sft/merged/OrpoLlama-3-8B'\n",
    "# MODEL_ID = \"NousResearch/Meta-Llama-3-8B\"\n",
    "\n",
    "model_name = \"llama3_sft\"\n",
    "# model_name ='NousResearch_llama3b'\n",
    "# Name of the benchmark task to use for eval\n",
    "benchmark = 'truthfulqa'\n",
    "# Flag to enable remote code\n",
    "TRUST_REMOTE_CODE = 'True'\n",
    "# Flag to load the model in 8 bit, 4 bit is also supported as a param in the command below\n",
    "load_in_8bit = 'True'"
   ]
  },
  {
   "cell_type": "code",
   "execution_count": 13,
   "id": "d62da529-43e9-4196-ada5-47cdd0e47d34",
   "metadata": {
    "tags": []
   },
   "outputs": [],
   "source": [
    "# Command to run the evaluation ; if you have multiple GPUs use install accelerate and remove the --device flag from the command below\n",
    "command = f\"lm_eval --model hf --model_args pretrained={MODEL_ID},dtype=auto,trust_remote_code={TRUST_REMOTE_CODE},load_in_8bit={load_in_8bit} --tasks {benchmark} --device cuda:0 --num_fewshot 0 --batch_size auto --output_path ./benchmark_{model_name}_{benchmark}.json\""
   ]
  },
  {
   "cell_type": "code",
   "execution_count": null,
   "id": "2b4640b0-bdba-4b73-9b8f-4154a05f8a09",
   "metadata": {
    "tags": []
   },
   "outputs": [
    {
     "name": "stdout",
     "output_type": "stream",
     "text": [
      "2024-05-02:02:57:13,411 INFO     [__main__.py:251] Verbosity set to INFO\n",
      "2024-05-02:02:57:18,537 INFO     [__main__.py:335] Selected Tasks: ['truthfulqa']\n",
      "2024-05-02:02:57:18,537 INFO     [evaluator.py:131] Setting random seed to 0 | Setting numpy seed to 1234 | Setting torch manual seed to 1234\n",
      "2024-05-02:02:57:18,537 INFO     [evaluator.py:177] Initializing hf model, with arguments: {'pretrained': 'NousResearch/Meta-Llama-3-8B', 'dtype': 'auto', 'trust_remote_code': True, 'load_in_8bit': True}\n",
      "2024-05-02:02:57:18,568 INFO     [huggingface.py:164] Using device 'cuda:0'\n",
      "The `load_in_4bit` and `load_in_8bit` arguments are deprecated and will be removed in the future versions. Please, pass a `BitsAndBytesConfig` object in `quantization_config` argument instead.\n",
      "Loading checkpoint shards: 100%|██████████████████| 4/4 [00:07<00:00,  1.85s/it]\n",
      "2024-05-02:02:57:26,743 WARNING  [big_modeling.py:450] You shouldn't move a model that is dispatched using accelerate hooks.\n",
      "Special tokens have been added in the vocabulary, make sure the associated word embeddings are fine-tuned or trained.\n",
      "Downloading readme: 100%|██████████████████| 9.59k/9.59k [00:00<00:00, 41.3MB/s]\n",
      "Downloading data: 100%|███████████████████████| 271k/271k [00:00<00:00, 896kB/s]\n",
      "Generating validation split: 100%|█| 817/817 [00:00<00:00, 140038.67 examples/s]\n",
      "Downloading data: 100%|██████████████████████| 223k/223k [00:00<00:00, 1.86MB/s]\n",
      "Generating validation split: 100%|█| 817/817 [00:00<00:00, 221652.42 examples/s]\n",
      "Map: 100%|███████████████████████████| 817/817 [00:00<00:00, 9893.17 examples/s]\n",
      "2024-05-02:02:57:33,193 INFO     [evaluator.py:235] num_fewshot has been set to 0 for truthfulqa_gen in its config. Manual configuration will be ignored.\n",
      "2024-05-02:02:57:33,193 INFO     [evaluator.py:235] num_fewshot has been set to 0 for truthfulqa_mc1 in its config. Manual configuration will be ignored.\n",
      "2024-05-02:02:57:33,193 INFO     [evaluator.py:235] num_fewshot has been set to 0 for truthfulqa_mc2 in its config. Manual configuration will be ignored.\n",
      "2024-05-02:02:57:33,196 INFO     [task.py:395] Building contexts for truthfulqa_gen on rank 0...\n",
      "100%|███████████████████████████████████████| 817/817 [00:00<00:00, 1639.44it/s]\n",
      "2024-05-02:02:57:33,748 INFO     [task.py:395] Building contexts for truthfulqa_mc1 on rank 0...\n",
      "100%|████████████████████████████████████████| 817/817 [00:00<00:00, 983.52it/s]\n",
      "2024-05-02:02:57:34,637 INFO     [task.py:395] Building contexts for truthfulqa_mc2 on rank 0...\n",
      "100%|████████████████████████████████████████| 817/817 [00:00<00:00, 832.03it/s]\n",
      "2024-05-02:02:57:35,675 INFO     [evaluator.py:379] Running generate_until requests\n",
      "Running generate_until requests:   0%|                  | 0/817 [00:00<?, ?it/s]Passed argument batch_size = auto. Detecting largest batch size\n",
      "/usr/local/lib/python3.10/dist-packages/bitsandbytes/autograd/_functions.py:316: UserWarning: MatMul8bitLt: inputs will be cast from torch.bfloat16 to float16 during quantization\n",
      "  warnings.warn(f\"MatMul8bitLt: inputs will be cast from {A.dtype} to float16 during quantization\")\n",
      "Determined Largest batch size: 1\n",
      "/usr/local/lib/python3.10/dist-packages/transformers/generation/configuration_utils.py:492: UserWarning: `do_sample` is set to `False`. However, `temperature` is set to `0.6` -- this flag is only used in sample-based generation modes. You should set `do_sample=True` or unset `temperature`.\n",
      "  warnings.warn(\n",
      "/usr/local/lib/python3.10/dist-packages/transformers/generation/configuration_utils.py:497: UserWarning: `do_sample` is set to `False`. However, `top_p` is set to `0.9` -- this flag is only used in sample-based generation modes. You should set `do_sample=True` or unset `top_p`.\n",
      "  warnings.warn(\n",
      "Running generate_until requests:  46%|███▋    | 374/817 [18:02<25:23,  3.44s/it]"
     ]
    }
   ],
   "source": [
    "!{command}"
   ]
  },
  {
   "cell_type": "code",
   "execution_count": null,
   "id": "d21ae522-ec6c-43fe-a7c9-8864d54f8bf9",
   "metadata": {},
   "outputs": [],
   "source": []
  }
 ],
 "metadata": {
  "kernelspec": {
   "display_name": "Python 3 (ipykernel)",
   "language": "python",
   "name": "python3"
  },
  "language_info": {
   "codemirror_mode": {
    "name": "ipython",
    "version": 3
   },
   "file_extension": ".py",
   "mimetype": "text/x-python",
   "name": "python",
   "nbconvert_exporter": "python",
   "pygments_lexer": "ipython3",
   "version": "3.10.12"
  }
 },
 "nbformat": 4,
 "nbformat_minor": 5
}
