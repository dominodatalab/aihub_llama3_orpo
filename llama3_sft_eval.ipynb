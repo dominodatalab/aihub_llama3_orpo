{
 "cells": [
  {
   "cell_type": "code",
   "execution_count": 9,
   "id": "ce7c9763-7157-45cb-bce0-b200637e6365",
   "metadata": {
    "tags": []
   },
   "outputs": [],
   "source": [
    "# MODEL_ID = '/mnt/artifacts/llama3_sft/merged/OrpoLlama-3-8B'\n",
    "MODEL_ID = \"NousResearch/Meta-Llama-3-8B\"\n",
    "\n",
    "# model_name = \"llama3_sft\"\n",
    "model_name ='NousResearch_llama3b'\n",
    "# Name of the benchmark task to use for eval\n",
    "benchmark = 'eq_bench'\n",
    "# Flag to enable remote code\n",
    "TRUST_REMOTE_CODE = 'True'\n",
    "# Flag to load the model in 8 bit, 4 bit is also supported as a param in the command below\n",
    "load_in_8bit = 'True'"
   ]
  },
  {
   "cell_type": "code",
   "execution_count": 10,
   "id": "d62da529-43e9-4196-ada5-47cdd0e47d34",
   "metadata": {
    "tags": []
   },
   "outputs": [],
   "source": [
    "# Command to run the evaluation ; if you have multiple GPUs use install accelerate and remove the --device flag from the command below\n",
    "command = f\"lm_eval --model hf --model_args pretrained={MODEL_ID},dtype=auto,trust_remote_code={TRUST_REMOTE_CODE},load_in_8bit={load_in_8bit} --tasks {benchmark} --device cuda:0 --num_fewshot 0 --batch_size auto --output_path ./benchmark_{model_name}_{benchmark}.json\""
   ]
  },
  {
   "cell_type": "code",
   "execution_count": null,
   "id": "2b4640b0-bdba-4b73-9b8f-4154a05f8a09",
   "metadata": {
    "tags": []
   },
   "outputs": [
    {
     "name": "stdout",
     "output_type": "stream",
     "text": [
      "Running generate_until requests:  26%|██▎      | 45/171 [03:25<09:39,  4.60s/it]"
     ]
    }
   ],
   "source": [
    "!{command}"
   ]
  },
  {
   "cell_type": "code",
   "execution_count": null,
   "id": "d21ae522-ec6c-43fe-a7c9-8864d54f8bf9",
   "metadata": {},
   "outputs": [],
   "source": []
  }
 ],
 "metadata": {
  "kernelspec": {
   "display_name": "Python 3 (ipykernel)",
   "language": "python",
   "name": "python3"
  },
  "language_info": {
   "codemirror_mode": {
    "name": "ipython",
    "version": 3
   },
   "file_extension": ".py",
   "mimetype": "text/x-python",
   "name": "python",
   "nbconvert_exporter": "python",
   "pygments_lexer": "ipython3",
   "version": "3.10.12"
  }
 },
 "nbformat": 4,
 "nbformat_minor": 5
}
